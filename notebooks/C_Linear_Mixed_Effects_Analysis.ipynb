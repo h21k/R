{
 "cells": [
  {
   "cell_type": "code",
   "execution_count": 1,
   "metadata": {},
   "outputs": [
    {
     "data": {
      "text/html": [
       "3"
      ],
      "text/latex": [
       "3"
      ],
      "text/markdown": [
       "3"
      ],
      "text/plain": [
       "[1] 3"
      ]
     },
     "metadata": {},
     "output_type": "display_data"
    }
   ],
   "source": [
    "#set specific working directory\n",
    "#setwd(\"~/Desktop/R_STUFF\")\n",
    "\n",
    "# load performance improvement libraries & enable just in time compiler\n",
    "library(compiler)\n",
    "enableJIT(1)\n",
    "\n",
    "#some environmental variables (decimals)\n",
    "options=7\n",
    "options(citr.use_betterbiblatex = FALSE)"
   ]
  },
  {
   "cell_type": "code",
   "execution_count": 2,
   "metadata": {},
   "outputs": [
    {
     "name": "stderr",
     "output_type": "stream",
     "text": [
      "Loading required package: gdata\n",
      "gdata: read.xls support for 'XLS' (Excel 97-2004) files ENABLED.\n",
      "\n",
      "gdata: read.xls support for 'XLSX' (Excel 2007+) files ENABLED.\n",
      "\n",
      "Attaching package: ‘gdata’\n",
      "\n",
      "The following object is masked from ‘package:stats’:\n",
      "\n",
      "    nobs\n",
      "\n",
      "The following object is masked from ‘package:utils’:\n",
      "\n",
      "    object.size\n",
      "\n",
      "The following object is masked from ‘package:base’:\n",
      "\n",
      "    startsWith\n",
      "\n",
      "Loading required package: lsr\n",
      "Loading required package: sft\n",
      "Warning message:\n",
      "“package ‘sft’ was built under R version 3.4.3”Loading required package: fda\n",
      "Warning message:\n",
      "“package ‘fda’ was built under R version 3.4.1”Loading required package: splines\n",
      "Loading required package: Matrix\n",
      "\n",
      "Attaching package: ‘fda’\n",
      "\n",
      "The following object is masked from ‘package:graphics’:\n",
      "\n",
      "    matplot\n",
      "\n",
      "Loading required package: SuppDists\n",
      "Loading required package: nlme\n",
      "Loading required package: lme4\n",
      "\n",
      "Attaching package: ‘lme4’\n",
      "\n",
      "The following object is masked from ‘package:nlme’:\n",
      "\n",
      "    lmList\n",
      "\n",
      "Loading required package: bibtex\n",
      "Warning message:\n",
      "“package ‘bibtex’ was built under R version 3.4.1”Loading required package: psych\n",
      "Loading required package: likert\n",
      "Loading required package: ggplot2\n",
      "\n",
      "Attaching package: ‘ggplot2’\n",
      "\n",
      "The following objects are masked from ‘package:psych’:\n",
      "\n",
      "    %+%, alpha\n",
      "\n",
      "Loading required package: xtable\n",
      "Loading required package: tidyverse\n",
      "Loading tidyverse: tibble\n",
      "Loading tidyverse: tidyr\n",
      "Loading tidyverse: readr\n",
      "Loading tidyverse: purrr\n",
      "Loading tidyverse: dplyr\n",
      "Warning message:\n",
      "“package ‘tibble’ was built under R version 3.4.3”Warning message:\n",
      "“package ‘tidyr’ was built under R version 3.4.1”Warning message:\n",
      "“package ‘purrr’ was built under R version 3.4.2”Warning message:\n",
      "“package ‘dplyr’ was built under R version 3.4.2”Conflicts with tidy packages ---------------------------------------------------\n",
      "%+%():      ggplot2, psych\n",
      "alpha():    ggplot2, psych\n",
      "collapse(): dplyr, nlme\n",
      "combine():  dplyr, gdata\n",
      "expand():   tidyr, Matrix\n",
      "filter():   dplyr, stats\n",
      "first():    dplyr, gdata\n",
      "keep():     purrr, gdata\n",
      "lag():      dplyr, stats\n",
      "last():     dplyr, gdata\n",
      "recode():   dplyr, likert\n"
     ]
    },
    {
     "data": {
      "text/html": [
       "<ol>\n",
       "\t<li>TRUE</li>\n",
       "\t<li>TRUE</li>\n",
       "\t<li>TRUE</li>\n",
       "\t<li>TRUE</li>\n",
       "\t<li>TRUE</li>\n",
       "\t<li>TRUE</li>\n",
       "\t<li>TRUE</li>\n",
       "\t<li>TRUE</li>\n",
       "\t<li>TRUE</li>\n",
       "\t<li>TRUE</li>\n",
       "\t<li>TRUE</li>\n",
       "</ol>\n"
      ],
      "text/latex": [
       "\\begin{enumerate}\n",
       "\\item TRUE\n",
       "\\item TRUE\n",
       "\\item TRUE\n",
       "\\item TRUE\n",
       "\\item TRUE\n",
       "\\item TRUE\n",
       "\\item TRUE\n",
       "\\item TRUE\n",
       "\\item TRUE\n",
       "\\item TRUE\n",
       "\\item TRUE\n",
       "\\end{enumerate}\n"
      ],
      "text/markdown": [
       "1. TRUE\n",
       "2. TRUE\n",
       "3. TRUE\n",
       "4. TRUE\n",
       "5. TRUE\n",
       "6. TRUE\n",
       "7. TRUE\n",
       "8. TRUE\n",
       "9. TRUE\n",
       "10. TRUE\n",
       "11. TRUE\n",
       "\n",
       "\n"
      ],
      "text/plain": [
       "[[1]]\n",
       "[1] TRUE\n",
       "\n",
       "[[2]]\n",
       "[1] TRUE\n",
       "\n",
       "[[3]]\n",
       "[1] TRUE\n",
       "\n",
       "[[4]]\n",
       "[1] TRUE\n",
       "\n",
       "[[5]]\n",
       "[1] TRUE\n",
       "\n",
       "[[6]]\n",
       "[1] TRUE\n",
       "\n",
       "[[7]]\n",
       "[1] TRUE\n",
       "\n",
       "[[8]]\n",
       "[1] TRUE\n",
       "\n",
       "[[9]]\n",
       "[1] TRUE\n",
       "\n",
       "[[10]]\n",
       "[1] TRUE\n",
       "\n",
       "[[11]]\n",
       "[1] TRUE\n"
      ]
     },
     "metadata": {},
     "output_type": "display_data"
    }
   ],
   "source": [
    "#check if required packages are there - if not install them!\n",
    "requiredPackages = c('gdata','compiler','lsr','sft','nlme', 'lme4', 'bibtex', 'psych', 'likert', 'ggplot2', 'tidyverse')\n",
    "for(p in requiredPackages){\n",
    "  if(!require(p,character.only = TRUE)) install.packages(p)\n",
    "  library(p,character.only = TRUE)\n",
    "}\n",
    "#load all the libraries    \n",
    "lapply(requiredPackages, require, character.only = TRUE)"
   ]
  },
  {
   "cell_type": "code",
   "execution_count": 3,
   "metadata": {
    "collapsed": true
   },
   "outputs": [],
   "source": [
    "# Importing the data \n",
    "data <- read.xls(\"TimeAnalysis2_1.xlsx\", verbose=FALSE, na.strings=c(\"NA\"))"
   ]
  },
  {
   "cell_type": "code",
   "execution_count": 5,
   "metadata": {},
   "outputs": [
    {
     "data": {
      "text/html": [
       "<table>\n",
       "<thead><tr><th scope=col>ParticipantNo</th><th scope=col>ID</th><th scope=col>PDF</th><th scope=col>Order</th><th scope=col>Time</th><th scope=col>Condition</th><th scope=col>CExperience</th><th scope=col>Tasks</th><th scope=col>Error</th></tr></thead>\n",
       "<tbody>\n",
       "\t<tr><td>1                    </td><td>-JjAzwjQakZk-3kIbeMfw</td><td>U2PXr4iMBf8Kt-leQI8Ii</td><td>1                    </td><td>435                  </td><td>1                    </td><td>1                    </td><td>9                    </td><td>0                    </td></tr>\n",
       "\t<tr><td>1                    </td><td>-JjAzwjQakZk-3kIbeMfw</td><td>4gIe5sni3WJJCzNglSdo8</td><td>2                    </td><td>582                  </td><td>0                    </td><td>1                    </td><td>9                    </td><td>0                    </td></tr>\n",
       "\t<tr><td>1                    </td><td>-JjAzwjQakZk-3kIbeMfw</td><td>iHbGgWtrKNfksdoj9Hxv9</td><td>3                    </td><td>297                  </td><td>1                    </td><td>1                    </td><td>9                    </td><td>0                    </td></tr>\n",
       "\t<tr><td>1                    </td><td>-JjAzwjQakZk-3kIbeMfw</td><td>cnDXl97I_WoVUqyIH0HbQ</td><td>4                    </td><td>610                  </td><td>0                    </td><td>1                    </td><td>9                    </td><td>0                    </td></tr>\n",
       "\t<tr><td>2                    </td><td>hNQKTiKtHSY_BmxLyZb9Q</td><td>XOCbiBddVQK3BYy1Ox4lI</td><td>1                    </td><td>306                  </td><td>1                    </td><td>1                    </td><td>8                    </td><td>0                    </td></tr>\n",
       "\t<tr><td>2                    </td><td>hNQKTiKtHSY_BmxLyZb9Q</td><td>oOAy7INgRLumTV3vZWtVM</td><td>2                    </td><td>127                  </td><td>1                    </td><td>1                    </td><td>8                    </td><td>0                    </td></tr>\n",
       "</tbody>\n",
       "</table>\n"
      ],
      "text/latex": [
       "\\begin{tabular}{r|lllllllll}\n",
       " ParticipantNo & ID & PDF & Order & Time & Condition & CExperience & Tasks & Error\\\\\n",
       "\\hline\n",
       "\t 1                     & -JjAzwjQakZk-3kIbeMfw & U2PXr4iMBf8Kt-leQI8Ii & 1                     & 435                   & 1                     & 1                     & 9                     & 0                    \\\\\n",
       "\t 1                     & -JjAzwjQakZk-3kIbeMfw & 4gIe5sni3WJJCzNglSdo8 & 2                     & 582                   & 0                     & 1                     & 9                     & 0                    \\\\\n",
       "\t 1                     & -JjAzwjQakZk-3kIbeMfw & iHbGgWtrKNfksdoj9Hxv9 & 3                     & 297                   & 1                     & 1                     & 9                     & 0                    \\\\\n",
       "\t 1                       & -JjAzwjQakZk-3kIbeMfw   & cnDXl97I\\_WoVUqyIH0HbQ & 4                       & 610                     & 0                       & 1                       & 9                       & 0                      \\\\\n",
       "\t 2                       & hNQKTiKtHSY\\_BmxLyZb9Q & XOCbiBddVQK3BYy1Ox4lI   & 1                       & 306                     & 1                       & 1                       & 8                       & 0                      \\\\\n",
       "\t 2                       & hNQKTiKtHSY\\_BmxLyZb9Q & oOAy7INgRLumTV3vZWtVM   & 2                       & 127                     & 1                       & 1                       & 8                       & 0                      \\\\\n",
       "\\end{tabular}\n"
      ],
      "text/markdown": [
       "\n",
       "ParticipantNo | ID | PDF | Order | Time | Condition | CExperience | Tasks | Error | \n",
       "|---|---|---|---|---|---|\n",
       "| 1                     | -JjAzwjQakZk-3kIbeMfw | U2PXr4iMBf8Kt-leQI8Ii | 1                     | 435                   | 1                     | 1                     | 9                     | 0                     | \n",
       "| 1                     | -JjAzwjQakZk-3kIbeMfw | 4gIe5sni3WJJCzNglSdo8 | 2                     | 582                   | 0                     | 1                     | 9                     | 0                     | \n",
       "| 1                     | -JjAzwjQakZk-3kIbeMfw | iHbGgWtrKNfksdoj9Hxv9 | 3                     | 297                   | 1                     | 1                     | 9                     | 0                     | \n",
       "| 1                     | -JjAzwjQakZk-3kIbeMfw | cnDXl97I_WoVUqyIH0HbQ | 4                     | 610                   | 0                     | 1                     | 9                     | 0                     | \n",
       "| 2                     | hNQKTiKtHSY_BmxLyZb9Q | XOCbiBddVQK3BYy1Ox4lI | 1                     | 306                   | 1                     | 1                     | 8                     | 0                     | \n",
       "| 2                     | hNQKTiKtHSY_BmxLyZb9Q | oOAy7INgRLumTV3vZWtVM | 2                     | 127                   | 1                     | 1                     | 8                     | 0                     | \n",
       "\n",
       "\n"
      ],
      "text/plain": [
       "  ParticipantNo ID                    PDF                   Order Time\n",
       "1 1             -JjAzwjQakZk-3kIbeMfw U2PXr4iMBf8Kt-leQI8Ii 1     435 \n",
       "2 1             -JjAzwjQakZk-3kIbeMfw 4gIe5sni3WJJCzNglSdo8 2     582 \n",
       "3 1             -JjAzwjQakZk-3kIbeMfw iHbGgWtrKNfksdoj9Hxv9 3     297 \n",
       "4 1             -JjAzwjQakZk-3kIbeMfw cnDXl97I_WoVUqyIH0HbQ 4     610 \n",
       "5 2             hNQKTiKtHSY_BmxLyZb9Q XOCbiBddVQK3BYy1Ox4lI 1     306 \n",
       "6 2             hNQKTiKtHSY_BmxLyZb9Q oOAy7INgRLumTV3vZWtVM 2     127 \n",
       "  Condition CExperience Tasks Error\n",
       "1 1         1           9     0    \n",
       "2 0         1           9     0    \n",
       "3 1         1           9     0    \n",
       "4 0         1           9     0    \n",
       "5 1         1           8     0    \n",
       "6 1         1           8     0    "
      ]
     },
     "metadata": {},
     "output_type": "display_data"
    }
   ],
   "source": [
    "# quick check on the data\n",
    "head(data)"
   ]
  },
  {
   "cell_type": "code",
   "execution_count": 7,
   "metadata": {},
   "outputs": [
    {
     "name": "stdout",
     "output_type": "stream",
     "text": [
      "'data.frame':\t152 obs. of  9 variables:\n",
      " $ ParticipantNo: int  1 1 1 1 2 2 2 2 3 3 ...\n",
      " $ ID           : Factor w/ 38 levels \"-JjAzwjQakZk-3kIbeMfw\",..: 1 1 1 1 18 18 18 18 25 25 ...\n",
      " $ PDF          : Factor w/ 46 levels \"0nx4Zi7dVYn5EQ3dNItt-\",..: 38 5 23 13 43 29 44 36 26 19 ...\n",
      " $ Order        : int  1 2 3 4 1 2 3 4 1 2 ...\n",
      " $ Time         : int  435 582 297 610 306 127 777 756 163 209 ...\n",
      " $ Condition    : int  1 0 1 0 1 1 0 0 0 1 ...\n",
      " $ CExperience  : int  1 1 1 1 1 1 1 1 1 1 ...\n",
      " $ Tasks        : int  9 9 9 9 8 8 8 8 9 9 ...\n",
      " $ Error        : int  0 0 0 0 0 0 0 0 0 0 ...\n"
     ]
    }
   ],
   "source": [
    "# Checking the structure of the data so that ID and PDF is a factor\n",
    "str(data)"
   ]
  },
  {
   "cell_type": "code",
   "execution_count": 12,
   "metadata": {},
   "outputs": [
    {
     "name": "stderr",
     "output_type": "stream",
     "text": [
      "Warning message in lmer(Time ~ Condition + (1 | ID) + (1 | PDF), data = data, family = \"poisson\"):\n",
      "“calling lmer with 'family' is deprecated; please use glmer() instead”"
     ]
    }
   ],
   "source": [
    "# Linear Mixed-Model + setting family=poisson (distribution)\n",
    "a <- lmer(Time ~ Condition + (1 | ID) + (1 | PDF), data=data, family='poisson')"
   ]
  },
  {
   "cell_type": "code",
   "execution_count": 13,
   "metadata": {},
   "outputs": [
    {
     "data": {
      "text/plain": [
       "Generalized linear mixed model fit by maximum likelihood (Laplace\n",
       "  Approximation) [glmerMod]\n",
       " Family: poisson  ( log )\n",
       "Formula: Time ~ Condition + (1 | ID) + (1 | PDF)\n",
       "   Data: data\n",
       "Control: \n",
       "structure(list(optimizer = c(\"bobyqa\", \"Nelder_Mead\"), calc.derivs = TRUE,  \n",
       "    use.last.params = FALSE, restart_edge = FALSE, boundary.tol = 1e-05,  \n",
       "    tolPwrss = 1e-07, compDev = TRUE, nAGQ0initStep = TRUE, checkControl = structure(list( \n",
       "        check.nobs.vs.rankZ = \"ignore\", check.nobs.vs.nlev = \"stop\",  \n",
       "        check.nlev.gtreq.5 = \"ignore\", check.nlev.gtr.1 = \"stop\",  \n",
       "        check.nobs.vs.nRE = \"stop\", check.rankX = \"message+drop.cols\",  \n",
       "        check.scaleX = \"warning\", check.formula.LHS = \"stop\",  \n",
       "        check.response.not.const = \"stop\"), .Names = c(\"check.nobs.vs.rankZ\",  \n",
       "    \"check.nobs.vs.nlev\", \"check.nlev.gtreq.5\", \"check.nlev.gtr.1\",  \n",
       "    \"check.nobs.vs.nRE\", \"check.rankX\", \"check.scaleX\", \"check.formula.LHS\",  \n",
       "    \"check.response.not.const\")), checkConv = structure(list( \n",
       "        check.conv.grad = structure(list(action = \"warning\",  \n",
       "            tol = 0.001, relTol = NULL), .Names = c(\"action\",  \n",
       "        \"tol\", \"relTol\")), check.conv.singular = structure(list( \n",
       "            action = \"ignore\", tol = 1e-04), .Names = c(\"action\",  \n",
       "        \"tol\")), check.conv.hess = structure(list(action = \"warning\",  \n",
       "            tol = 1e-06), .Names = c(\"action\", \"tol\"))), .Names = c(\"check.conv.grad\",  \n",
       "    \"check.conv.singular\", \"check.conv.hess\")), optCtrl = list()), .Names = c(\"optimizer\",  \n",
       "\"calc.derivs\", \"use.last.params\", \"restart_edge\", \"boundary.tol\",  \n",
       "\"tolPwrss\", \"compDev\", \"nAGQ0initStep\", \"checkControl\", \"checkConv\",  \n",
       "\"optCtrl\"), class = c(\"glmerControl\", \"merControl\"))\n",
       "\n",
       "     AIC      BIC   logLik deviance df.resid \n",
       " 15926.3  15938.3  -7959.1  15918.3      148 \n",
       "\n",
       "Scaled residuals: \n",
       "     Min       1Q   Median       3Q      Max \n",
       "-29.7729  -6.4846  -0.2582   6.4437  28.4142 \n",
       "\n",
       "Random effects:\n",
       " Groups Name        Variance Std.Dev.\n",
       " PDF    (Intercept) 0.4068   0.6378  \n",
       " ID     (Intercept) 0.4703   0.6858  \n",
       "Number of obs: 152, groups:  PDF, 46; ID, 38\n",
       "\n",
       "Fixed effects:\n",
       "             Estimate Std. Error z value Pr(>|z|)    \n",
       "(Intercept)  6.473207   0.145794   44.40   <2e-16 ***\n",
       "Condition   -0.221157   0.008273  -26.73   <2e-16 ***\n",
       "---\n",
       "Signif. codes:  0 ‘***’ 0.001 ‘**’ 0.01 ‘*’ 0.05 ‘.’ 0.1 ‘ ’ 1\n",
       "\n",
       "Correlation of Fixed Effects:\n",
       "          (Intr)\n",
       "Condition -0.024"
      ]
     },
     "metadata": {},
     "output_type": "display_data"
    }
   ],
   "source": [
    "summary(a)"
   ]
  },
  {
   "cell_type": "code",
   "execution_count": 11,
   "metadata": {},
   "outputs": [
    {
     "name": "stdout",
     "output_type": "stream",
     "text": [
      "Linear mixed model fit by REML ['lmerMod']\n",
      "Formula: Time ~ Condition + (1 | ID) + (1 | PDF)\n",
      "   Data: data\n",
      "\n",
      "REML criterion at convergence: 2416.3\n",
      "\n",
      "Scaled residuals: \n",
      "    Min      1Q  Median      3Q     Max \n",
      "-3.0493 -0.4095 -0.1687  0.2313  4.1152 \n",
      "\n",
      "Random effects:\n",
      " Groups   Name        Variance Std.Dev.\n",
      " PDF      (Intercept)      0     0.0   \n",
      " ID       (Intercept) 286030   534.8   \n",
      " Residual             390474   624.9   \n",
      "Number of obs: 152, groups:  PDF, 46; ID, 38\n",
      "\n",
      "Fixed effects:\n",
      "            Estimate Std. Error t value\n",
      "(Intercept)   841.28     112.54   7.475\n",
      "Condition     -67.01     101.37  -0.661\n",
      "\n",
      "Correlation of Fixed Effects:\n",
      "          (Intr)\n",
      "Condition -0.450\n"
     ]
    }
   ],
   "source": [
    "print(summary(a))"
   ]
  },
  {
   "cell_type": "code",
   "execution_count": 14,
   "metadata": {
    "collapsed": true
   },
   "outputs": [],
   "source": [
    "# likelyhood ration test"
   ]
  },
  {
   "cell_type": "code",
   "execution_count": 16,
   "metadata": {},
   "outputs": [
    {
     "name": "stderr",
     "output_type": "stream",
     "text": [
      "refitting model(s) with ML (instead of REML)\n"
     ]
    },
    {
     "data": {
      "text/html": [
       "<table>\n",
       "<thead><tr><th></th><th scope=col>Df</th><th scope=col>AIC</th><th scope=col>BIC</th><th scope=col>logLik</th><th scope=col>deviance</th><th scope=col>Chisq</th><th scope=col>Chi Df</th><th scope=col>Pr(&gt;Chisq)</th></tr></thead>\n",
       "<tbody>\n",
       "\t<tr><th scope=row>fm2</th><td>4           </td><td>2477.038    </td><td>2489.134    </td><td>-1234.519   </td><td>2469.038    </td><td>      NA    </td><td>NA          </td><td>          NA</td></tr>\n",
       "\t<tr><th scope=row>fm1</th><td>5           </td><td>2448.366    </td><td>2463.486    </td><td>-1219.183   </td><td>2438.366    </td><td>30.67186    </td><td> 1          </td><td>3.055639e-08</td></tr>\n",
       "</tbody>\n",
       "</table>\n"
      ],
      "text/latex": [
       "\\begin{tabular}{r|llllllll}\n",
       "  & Df & AIC & BIC & logLik & deviance & Chisq & Chi Df & Pr(>Chisq)\\\\\n",
       "\\hline\n",
       "\tfm2 & 4            & 2477.038     & 2489.134     & -1234.519    & 2469.038     &       NA     & NA           &           NA\\\\\n",
       "\tfm1 & 5            & 2448.366     & 2463.486     & -1219.183    & 2438.366     & 30.67186     &  1           & 3.055639e-08\\\\\n",
       "\\end{tabular}\n"
      ],
      "text/markdown": [
       "\n",
       "| <!--/--> | Df | AIC | BIC | logLik | deviance | Chisq | Chi Df | Pr(>Chisq) | \n",
       "|---|---|\n",
       "| fm2 | 4            | 2477.038     | 2489.134     | -1234.519    | 2469.038     |       NA     | NA           |           NA | \n",
       "| fm1 | 5            | 2448.366     | 2463.486     | -1219.183    | 2438.366     | 30.67186     |  1           | 3.055639e-08 | \n",
       "\n",
       "\n"
      ],
      "text/plain": [
       "    Df AIC      BIC      logLik    deviance Chisq    Chi Df Pr(>Chisq)  \n",
       "fm2 4  2477.038 2489.134 -1234.519 2469.038       NA NA               NA\n",
       "fm1 5  2448.366 2463.486 -1219.183 2438.366 30.67186  1     3.055639e-08"
      ]
     },
     "metadata": {},
     "output_type": "display_data"
    }
   ],
   "source": [
    "fm1 <- lmer(Time ~ Condition + (1 | ID) + (1 | PDF), data=data)\n",
    "fm2 <- lmer(Time ~ Condition + (1 | PDF), data=data)\n",
    "# also works with lme objects\n",
    "anova(fm1, fm2) "
   ]
  },
  {
   "cell_type": "code",
   "execution_count": 17,
   "metadata": {},
   "outputs": [
    {
     "name": "stderr",
     "output_type": "stream",
     "text": [
      "refitting model(s) with ML (instead of REML)\n"
     ]
    },
    {
     "data": {
      "text/html": [
       "<table>\n",
       "<thead><tr><th></th><th scope=col>Df</th><th scope=col>AIC</th><th scope=col>BIC</th><th scope=col>logLik</th><th scope=col>deviance</th><th scope=col>Chisq</th><th scope=col>Chi Df</th><th scope=col>Pr(&gt;Chisq)</th></tr></thead>\n",
       "<tbody>\n",
       "\t<tr><th scope=row>fm4</th><td>4        </td><td>2446.366 </td><td>2458.462 </td><td>-1219.183</td><td>2438.366 </td><td>NA       </td><td>NA       </td><td>NA       </td></tr>\n",
       "\t<tr><th scope=row>fm3</th><td>5        </td><td>2448.366 </td><td>2463.486 </td><td>-1219.183</td><td>2438.366 </td><td> 0       </td><td> 1       </td><td> 1       </td></tr>\n",
       "</tbody>\n",
       "</table>\n"
      ],
      "text/latex": [
       "\\begin{tabular}{r|llllllll}\n",
       "  & Df & AIC & BIC & logLik & deviance & Chisq & Chi Df & Pr(>Chisq)\\\\\n",
       "\\hline\n",
       "\tfm4 & 4         & 2446.366  & 2458.462  & -1219.183 & 2438.366  & NA        & NA        & NA       \\\\\n",
       "\tfm3 & 5         & 2448.366  & 2463.486  & -1219.183 & 2438.366  &  0        &  1        &  1       \\\\\n",
       "\\end{tabular}\n"
      ],
      "text/markdown": [
       "\n",
       "| <!--/--> | Df | AIC | BIC | logLik | deviance | Chisq | Chi Df | Pr(>Chisq) | \n",
       "|---|---|\n",
       "| fm4 | 4         | 2446.366  | 2458.462  | -1219.183 | 2438.366  | NA        | NA        | NA        | \n",
       "| fm3 | 5         | 2448.366  | 2463.486  | -1219.183 | 2438.366  |  0        |  1        |  1        | \n",
       "\n",
       "\n"
      ],
      "text/plain": [
       "    Df AIC      BIC      logLik    deviance Chisq Chi Df Pr(>Chisq)\n",
       "fm4 4  2446.366 2458.462 -1219.183 2438.366 NA    NA     NA        \n",
       "fm3 5  2448.366 2463.486 -1219.183 2438.366  0     1      1        "
      ]
     },
     "metadata": {},
     "output_type": "display_data"
    }
   ],
   "source": [
    "fm3 <- lmer(Time ~ Condition + (1 | ID) + (1 | PDF), data=data)\n",
    "fm4 <- lmer(Time ~ Condition + (1 | ID), data=data)\n",
    "# also works with lme objects\n",
    "anova(fm3, fm4) "
   ]
  },
  {
   "cell_type": "code",
   "execution_count": null,
   "metadata": {
    "collapsed": true
   },
   "outputs": [],
   "source": []
  }
 ],
 "metadata": {
  "kernelspec": {
   "display_name": "R",
   "language": "R",
   "name": "ir"
  },
  "language_info": {
   "codemirror_mode": "r",
   "file_extension": ".r",
   "mimetype": "text/x-r-source",
   "name": "R",
   "pygments_lexer": "r",
   "version": "3.4.0"
  }
 },
 "nbformat": 4,
 "nbformat_minor": 2
}

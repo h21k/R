{
 "cells": [
  {
   "cell_type": "code",
   "execution_count": 1,
   "metadata": {},
   "outputs": [
    {
     "data": {
      "text/html": [
       "3"
      ],
      "text/latex": [
       "3"
      ],
      "text/markdown": [
       "3"
      ],
      "text/plain": [
       "[1] 3"
      ]
     },
     "metadata": {},
     "output_type": "display_data"
    }
   ],
   "source": [
    "#set specific working directory\n",
    "#setwd(\"~/Desktop/R_STUFF\")\n",
    "\n",
    "# load performance improvement libraries & enable just in time compiler\n",
    "library(compiler)\n",
    "enableJIT(1)\n",
    "\n",
    "#some environmental variables (decimals)\n",
    "options=7\n",
    "options(citr.use_betterbiblatex = FALSE)"
   ]
  },
  {
   "cell_type": "code",
   "execution_count": 31,
   "metadata": {},
   "outputs": [
    {
     "name": "stderr",
     "output_type": "stream",
     "text": [
      "Loading required package: car\n",
      "Warning message:\n",
      "“package ‘car’ was built under R version 3.4.1”\n",
      "Attaching package: ‘car’\n",
      "\n",
      "The following object is masked from ‘package:dplyr’:\n",
      "\n",
      "    recode\n",
      "\n",
      "The following object is masked from ‘package:purrr’:\n",
      "\n",
      "    some\n",
      "\n",
      "The following object is masked from ‘package:likert’:\n",
      "\n",
      "    recode\n",
      "\n",
      "The following object is masked from ‘package:psych’:\n",
      "\n",
      "    logit\n",
      "\n"
     ]
    },
    {
     "data": {
      "text/html": [
       "<ol>\n",
       "\t<li>TRUE</li>\n",
       "\t<li>TRUE</li>\n",
       "\t<li>TRUE</li>\n",
       "\t<li>TRUE</li>\n",
       "\t<li>TRUE</li>\n",
       "\t<li>TRUE</li>\n",
       "\t<li>TRUE</li>\n",
       "\t<li>TRUE</li>\n",
       "\t<li>TRUE</li>\n",
       "\t<li>TRUE</li>\n",
       "\t<li>TRUE</li>\n",
       "\t<li>TRUE</li>\n",
       "</ol>\n"
      ],
      "text/latex": [
       "\\begin{enumerate}\n",
       "\\item TRUE\n",
       "\\item TRUE\n",
       "\\item TRUE\n",
       "\\item TRUE\n",
       "\\item TRUE\n",
       "\\item TRUE\n",
       "\\item TRUE\n",
       "\\item TRUE\n",
       "\\item TRUE\n",
       "\\item TRUE\n",
       "\\item TRUE\n",
       "\\item TRUE\n",
       "\\end{enumerate}\n"
      ],
      "text/markdown": [
       "1. TRUE\n",
       "2. TRUE\n",
       "3. TRUE\n",
       "4. TRUE\n",
       "5. TRUE\n",
       "6. TRUE\n",
       "7. TRUE\n",
       "8. TRUE\n",
       "9. TRUE\n",
       "10. TRUE\n",
       "11. TRUE\n",
       "12. TRUE\n",
       "\n",
       "\n"
      ],
      "text/plain": [
       "[[1]]\n",
       "[1] TRUE\n",
       "\n",
       "[[2]]\n",
       "[1] TRUE\n",
       "\n",
       "[[3]]\n",
       "[1] TRUE\n",
       "\n",
       "[[4]]\n",
       "[1] TRUE\n",
       "\n",
       "[[5]]\n",
       "[1] TRUE\n",
       "\n",
       "[[6]]\n",
       "[1] TRUE\n",
       "\n",
       "[[7]]\n",
       "[1] TRUE\n",
       "\n",
       "[[8]]\n",
       "[1] TRUE\n",
       "\n",
       "[[9]]\n",
       "[1] TRUE\n",
       "\n",
       "[[10]]\n",
       "[1] TRUE\n",
       "\n",
       "[[11]]\n",
       "[1] TRUE\n",
       "\n",
       "[[12]]\n",
       "[1] TRUE\n"
      ]
     },
     "metadata": {},
     "output_type": "display_data"
    }
   ],
   "source": [
    "#check if required packages are there - if not install them!\n",
    "requiredPackages = c('gdata','compiler','car','lsr','sft','nlme', 'lme4', 'bibtex', 'psych', 'likert', 'ggplot2', 'tidyverse')\n",
    "for(p in requiredPackages){\n",
    "  if(!require(p,character.only = TRUE)) install.packages(p)\n",
    "  library(p,character.only = TRUE)\n",
    "}\n",
    "#load all the libraries    \n",
    "lapply(requiredPackages, require, character.only = TRUE)"
   ]
  },
  {
   "cell_type": "code",
   "execution_count": 3,
   "metadata": {
    "collapsed": true
   },
   "outputs": [],
   "source": [
    "# Importing the data \n",
    "data <- read.xls(\"TimeAnalysis2_1.xlsx\", verbose=FALSE, na.strings=c(\"NA\"))"
   ]
  },
  {
   "cell_type": "code",
   "execution_count": 4,
   "metadata": {},
   "outputs": [
    {
     "data": {
      "text/html": [
       "<table>\n",
       "<thead><tr><th scope=col>ParticipantNo</th><th scope=col>ID</th><th scope=col>PDF</th><th scope=col>Order</th><th scope=col>Time</th><th scope=col>Condition</th><th scope=col>CExperience</th><th scope=col>Tasks</th><th scope=col>Error</th></tr></thead>\n",
       "<tbody>\n",
       "\t<tr><td>1                    </td><td>-JjAzwjQakZk-3kIbeMfw</td><td>U2PXr4iMBf8Kt-leQI8Ii</td><td>1                    </td><td>435                  </td><td>1                    </td><td>1                    </td><td>9                    </td><td>0                    </td></tr>\n",
       "\t<tr><td>1                    </td><td>-JjAzwjQakZk-3kIbeMfw</td><td>4gIe5sni3WJJCzNglSdo8</td><td>2                    </td><td>582                  </td><td>0                    </td><td>1                    </td><td>9                    </td><td>0                    </td></tr>\n",
       "\t<tr><td>1                    </td><td>-JjAzwjQakZk-3kIbeMfw</td><td>iHbGgWtrKNfksdoj9Hxv9</td><td>3                    </td><td>297                  </td><td>1                    </td><td>1                    </td><td>9                    </td><td>0                    </td></tr>\n",
       "\t<tr><td>1                    </td><td>-JjAzwjQakZk-3kIbeMfw</td><td>cnDXl97I_WoVUqyIH0HbQ</td><td>4                    </td><td>610                  </td><td>0                    </td><td>1                    </td><td>9                    </td><td>0                    </td></tr>\n",
       "\t<tr><td>2                    </td><td>hNQKTiKtHSY_BmxLyZb9Q</td><td>XOCbiBddVQK3BYy1Ox4lI</td><td>1                    </td><td>306                  </td><td>1                    </td><td>1                    </td><td>8                    </td><td>0                    </td></tr>\n",
       "\t<tr><td>2                    </td><td>hNQKTiKtHSY_BmxLyZb9Q</td><td>oOAy7INgRLumTV3vZWtVM</td><td>2                    </td><td>127                  </td><td>1                    </td><td>1                    </td><td>8                    </td><td>0                    </td></tr>\n",
       "</tbody>\n",
       "</table>\n"
      ],
      "text/latex": [
       "\\begin{tabular}{r|lllllllll}\n",
       " ParticipantNo & ID & PDF & Order & Time & Condition & CExperience & Tasks & Error\\\\\n",
       "\\hline\n",
       "\t 1                     & -JjAzwjQakZk-3kIbeMfw & U2PXr4iMBf8Kt-leQI8Ii & 1                     & 435                   & 1                     & 1                     & 9                     & 0                    \\\\\n",
       "\t 1                     & -JjAzwjQakZk-3kIbeMfw & 4gIe5sni3WJJCzNglSdo8 & 2                     & 582                   & 0                     & 1                     & 9                     & 0                    \\\\\n",
       "\t 1                     & -JjAzwjQakZk-3kIbeMfw & iHbGgWtrKNfksdoj9Hxv9 & 3                     & 297                   & 1                     & 1                     & 9                     & 0                    \\\\\n",
       "\t 1                       & -JjAzwjQakZk-3kIbeMfw   & cnDXl97I\\_WoVUqyIH0HbQ & 4                       & 610                     & 0                       & 1                       & 9                       & 0                      \\\\\n",
       "\t 2                       & hNQKTiKtHSY\\_BmxLyZb9Q & XOCbiBddVQK3BYy1Ox4lI   & 1                       & 306                     & 1                       & 1                       & 8                       & 0                      \\\\\n",
       "\t 2                       & hNQKTiKtHSY\\_BmxLyZb9Q & oOAy7INgRLumTV3vZWtVM   & 2                       & 127                     & 1                       & 1                       & 8                       & 0                      \\\\\n",
       "\\end{tabular}\n"
      ],
      "text/markdown": [
       "\n",
       "ParticipantNo | ID | PDF | Order | Time | Condition | CExperience | Tasks | Error | \n",
       "|---|---|---|---|---|---|\n",
       "| 1                     | -JjAzwjQakZk-3kIbeMfw | U2PXr4iMBf8Kt-leQI8Ii | 1                     | 435                   | 1                     | 1                     | 9                     | 0                     | \n",
       "| 1                     | -JjAzwjQakZk-3kIbeMfw | 4gIe5sni3WJJCzNglSdo8 | 2                     | 582                   | 0                     | 1                     | 9                     | 0                     | \n",
       "| 1                     | -JjAzwjQakZk-3kIbeMfw | iHbGgWtrKNfksdoj9Hxv9 | 3                     | 297                   | 1                     | 1                     | 9                     | 0                     | \n",
       "| 1                     | -JjAzwjQakZk-3kIbeMfw | cnDXl97I_WoVUqyIH0HbQ | 4                     | 610                   | 0                     | 1                     | 9                     | 0                     | \n",
       "| 2                     | hNQKTiKtHSY_BmxLyZb9Q | XOCbiBddVQK3BYy1Ox4lI | 1                     | 306                   | 1                     | 1                     | 8                     | 0                     | \n",
       "| 2                     | hNQKTiKtHSY_BmxLyZb9Q | oOAy7INgRLumTV3vZWtVM | 2                     | 127                   | 1                     | 1                     | 8                     | 0                     | \n",
       "\n",
       "\n"
      ],
      "text/plain": [
       "  ParticipantNo ID                    PDF                   Order Time\n",
       "1 1             -JjAzwjQakZk-3kIbeMfw U2PXr4iMBf8Kt-leQI8Ii 1     435 \n",
       "2 1             -JjAzwjQakZk-3kIbeMfw 4gIe5sni3WJJCzNglSdo8 2     582 \n",
       "3 1             -JjAzwjQakZk-3kIbeMfw iHbGgWtrKNfksdoj9Hxv9 3     297 \n",
       "4 1             -JjAzwjQakZk-3kIbeMfw cnDXl97I_WoVUqyIH0HbQ 4     610 \n",
       "5 2             hNQKTiKtHSY_BmxLyZb9Q XOCbiBddVQK3BYy1Ox4lI 1     306 \n",
       "6 2             hNQKTiKtHSY_BmxLyZb9Q oOAy7INgRLumTV3vZWtVM 2     127 \n",
       "  Condition CExperience Tasks Error\n",
       "1 1         1           9     0    \n",
       "2 0         1           9     0    \n",
       "3 1         1           9     0    \n",
       "4 0         1           9     0    \n",
       "5 1         1           8     0    \n",
       "6 1         1           8     0    "
      ]
     },
     "metadata": {},
     "output_type": "display_data"
    }
   ],
   "source": [
    "head(data)"
   ]
  },
  {
   "cell_type": "code",
   "execution_count": 6,
   "metadata": {},
   "outputs": [
    {
     "data": {
      "text/plain": [
       " ParticipantNo                      ID                         PDF     \n",
       " Min.   : 1.0   -JjAzwjQakZk-3kIbeMfw:  4   0nx4Zi7dVYn5EQ3dNItt-:  7  \n",
       " 1st Qu.:10.0   -O8MP5AR-esmcnFcENyoF:  4   C3Yt_3KsVfsQvroPQZVRS:  6  \n",
       " Median :19.5   -YoLEIFk1XZUJo3BgVmlp:  4   CcOYVSOYGJaipVrXMOL8w:  6  \n",
       " Mean   :19.5   2K-K26QZH9xPJH9RVMltM:  4   ChNQN3VMGJgdvnhdhOkni:  6  \n",
       " 3rd Qu.:29.0   2snvok14kLm_dRIdL67PF:  4   maIR13XMswWK4r7a8EQjE:  6  \n",
       " Max.   :38.0   3CDOco99k3UGgia7A9LQo:  4   4gIe5sni3WJJCzNglSdo8:  5  \n",
       "                (Other)              :128   (Other)              :116  \n",
       "     Order           Time          Condition    CExperience         Tasks      \n",
       " Min.   :1.00   Min.   : 111.0   Min.   :0.0   Min.   :0.0000   Min.   :1.000  \n",
       " 1st Qu.:1.75   1st Qu.: 313.2   1st Qu.:0.0   1st Qu.:1.0000   1st Qu.:6.000  \n",
       " Median :2.50   Median : 581.0   Median :0.5   Median :1.0000   Median :8.000  \n",
       " Mean   :2.50   Mean   : 807.8   Mean   :0.5   Mean   :0.7895   Mean   :7.053  \n",
       " 3rd Qu.:3.25   3rd Qu.: 890.0   3rd Qu.:1.0   3rd Qu.:1.0000   3rd Qu.:9.000  \n",
       " Max.   :4.00   Max.   :4304.0   Max.   :1.0   Max.   :1.0000   Max.   :9.000  \n",
       "                                                                               \n",
       "     Error        \n",
       " Min.   :0.00000  \n",
       " 1st Qu.:0.00000  \n",
       " Median :0.00000  \n",
       " Mean   :0.05921  \n",
       " 3rd Qu.:0.00000  \n",
       " Max.   :1.00000  \n",
       "                  "
      ]
     },
     "metadata": {},
     "output_type": "display_data"
    }
   ],
   "source": [
    "summary(data)"
   ]
  },
  {
   "cell_type": "code",
   "execution_count": 9,
   "metadata": {
    "collapsed": true
   },
   "outputs": [],
   "source": [
    "ml.model = lmer(Time ~ Condition + (1 | ID) + (1 | PDF), data=data)"
   ]
  },
  {
   "cell_type": "markdown",
   "metadata": {},
   "source": [
    "##### Comments on the Mixed Effects Model\n",
    "We want to know if machine learning (Condition) has an influence on how long people take to complete a Risk of Bias assessment of a Document. Dependent variable: Time, Fixed Effect: Condition.<br>\n",
    "The error term or <b>random effect</b> (Epsilon) is accounted for here by the <b>NON-INDEPENDENCE</b> in our data. Our experimental design was a within-subjects design meaning one participant saw 4 documents (one after the other) which breaks indepencence here. "
   ]
  },
  {
   "cell_type": "code",
   "execution_count": 17,
   "metadata": {},
   "outputs": [
    {
     "data": {
      "text/html": [
       "<table>\n",
       "<thead><tr><th scope=col>ParticipantNo</th><th scope=col>ID</th><th scope=col>PDF</th><th scope=col>Order</th><th scope=col>Time</th><th scope=col>Condition</th><th scope=col>CExperience</th><th scope=col>Tasks</th><th scope=col>Error</th></tr></thead>\n",
       "<tbody>\n",
       "\t<tr><td>1                    </td><td>-JjAzwjQakZk-3kIbeMfw</td><td>U2PXr4iMBf8Kt-leQI8Ii</td><td>1                    </td><td>435                  </td><td>1                    </td><td>1                    </td><td>9                    </td><td>0                    </td></tr>\n",
       "\t<tr><td>1                    </td><td>-JjAzwjQakZk-3kIbeMfw</td><td>4gIe5sni3WJJCzNglSdo8</td><td>2                    </td><td>582                  </td><td>0                    </td><td>1                    </td><td>9                    </td><td>0                    </td></tr>\n",
       "\t<tr><td>1                    </td><td>-JjAzwjQakZk-3kIbeMfw</td><td>iHbGgWtrKNfksdoj9Hxv9</td><td>3                    </td><td>297                  </td><td>1                    </td><td>1                    </td><td>9                    </td><td>0                    </td></tr>\n",
       "\t<tr><td>1                    </td><td>-JjAzwjQakZk-3kIbeMfw</td><td>cnDXl97I_WoVUqyIH0HbQ</td><td>4                    </td><td>610                  </td><td>0                    </td><td>1                    </td><td>9                    </td><td>0                    </td></tr>\n",
       "\t<tr><td>2                    </td><td>hNQKTiKtHSY_BmxLyZb9Q</td><td>XOCbiBddVQK3BYy1Ox4lI</td><td>1                    </td><td>306                  </td><td>1                    </td><td>1                    </td><td>8                    </td><td>0                    </td></tr>\n",
       "\t<tr><td>2                    </td><td>hNQKTiKtHSY_BmxLyZb9Q</td><td>oOAy7INgRLumTV3vZWtVM</td><td>2                    </td><td>127                  </td><td>1                    </td><td>1                    </td><td>8                    </td><td>0                    </td></tr>\n",
       "</tbody>\n",
       "</table>\n"
      ],
      "text/latex": [
       "\\begin{tabular}{r|lllllllll}\n",
       " ParticipantNo & ID & PDF & Order & Time & Condition & CExperience & Tasks & Error\\\\\n",
       "\\hline\n",
       "\t 1                     & -JjAzwjQakZk-3kIbeMfw & U2PXr4iMBf8Kt-leQI8Ii & 1                     & 435                   & 1                     & 1                     & 9                     & 0                    \\\\\n",
       "\t 1                     & -JjAzwjQakZk-3kIbeMfw & 4gIe5sni3WJJCzNglSdo8 & 2                     & 582                   & 0                     & 1                     & 9                     & 0                    \\\\\n",
       "\t 1                     & -JjAzwjQakZk-3kIbeMfw & iHbGgWtrKNfksdoj9Hxv9 & 3                     & 297                   & 1                     & 1                     & 9                     & 0                    \\\\\n",
       "\t 1                       & -JjAzwjQakZk-3kIbeMfw   & cnDXl97I\\_WoVUqyIH0HbQ & 4                       & 610                     & 0                       & 1                       & 9                       & 0                      \\\\\n",
       "\t 2                       & hNQKTiKtHSY\\_BmxLyZb9Q & XOCbiBddVQK3BYy1Ox4lI   & 1                       & 306                     & 1                       & 1                       & 8                       & 0                      \\\\\n",
       "\t 2                       & hNQKTiKtHSY\\_BmxLyZb9Q & oOAy7INgRLumTV3vZWtVM   & 2                       & 127                     & 1                       & 1                       & 8                       & 0                      \\\\\n",
       "\\end{tabular}\n"
      ],
      "text/markdown": [
       "\n",
       "ParticipantNo | ID | PDF | Order | Time | Condition | CExperience | Tasks | Error | \n",
       "|---|---|---|---|---|---|\n",
       "| 1                     | -JjAzwjQakZk-3kIbeMfw | U2PXr4iMBf8Kt-leQI8Ii | 1                     | 435                   | 1                     | 1                     | 9                     | 0                     | \n",
       "| 1                     | -JjAzwjQakZk-3kIbeMfw | 4gIe5sni3WJJCzNglSdo8 | 2                     | 582                   | 0                     | 1                     | 9                     | 0                     | \n",
       "| 1                     | -JjAzwjQakZk-3kIbeMfw | iHbGgWtrKNfksdoj9Hxv9 | 3                     | 297                   | 1                     | 1                     | 9                     | 0                     | \n",
       "| 1                     | -JjAzwjQakZk-3kIbeMfw | cnDXl97I_WoVUqyIH0HbQ | 4                     | 610                   | 0                     | 1                     | 9                     | 0                     | \n",
       "| 2                     | hNQKTiKtHSY_BmxLyZb9Q | XOCbiBddVQK3BYy1Ox4lI | 1                     | 306                   | 1                     | 1                     | 8                     | 0                     | \n",
       "| 2                     | hNQKTiKtHSY_BmxLyZb9Q | oOAy7INgRLumTV3vZWtVM | 2                     | 127                   | 1                     | 1                     | 8                     | 0                     | \n",
       "\n",
       "\n"
      ],
      "text/plain": [
       "  ParticipantNo ID                    PDF                   Order Time\n",
       "1 1             -JjAzwjQakZk-3kIbeMfw U2PXr4iMBf8Kt-leQI8Ii 1     435 \n",
       "2 1             -JjAzwjQakZk-3kIbeMfw 4gIe5sni3WJJCzNglSdo8 2     582 \n",
       "3 1             -JjAzwjQakZk-3kIbeMfw iHbGgWtrKNfksdoj9Hxv9 3     297 \n",
       "4 1             -JjAzwjQakZk-3kIbeMfw cnDXl97I_WoVUqyIH0HbQ 4     610 \n",
       "5 2             hNQKTiKtHSY_BmxLyZb9Q XOCbiBddVQK3BYy1Ox4lI 1     306 \n",
       "6 2             hNQKTiKtHSY_BmxLyZb9Q oOAy7INgRLumTV3vZWtVM 2     127 \n",
       "  Condition CExperience Tasks Error\n",
       "1 1         1           9     0    \n",
       "2 0         1           9     0    \n",
       "3 1         1           9     0    \n",
       "4 0         1           9     0    \n",
       "5 1         1           8     0    \n",
       "6 1         1           8     0    "
      ]
     },
     "metadata": {},
     "output_type": "display_data"
    }
   ],
   "source": [
    "# hence again here 4 rows per particpant (ID)\n",
    "head(data)"
   ]
  },
  {
   "cell_type": "code",
   "execution_count": 10,
   "metadata": {},
   "outputs": [
    {
     "data": {
      "text/plain": [
       "Linear mixed model fit by REML ['lmerMod']\n",
       "Formula: Time ~ Condition + (1 | ID) + (1 | PDF)\n",
       "   Data: data\n",
       "REML criterion at convergence: 2416.251\n",
       "Random effects:\n",
       " Groups   Name        Std.Dev.\n",
       " PDF      (Intercept)   0.0   \n",
       " ID       (Intercept) 534.8   \n",
       " Residual             624.9   \n",
       "Number of obs: 152, groups:  PDF, 46; ID, 38\n",
       "Fixed Effects:\n",
       "(Intercept)    Condition  \n",
       "     841.28       -67.01  "
      ]
     },
     "metadata": {},
     "output_type": "display_data"
    }
   ],
   "source": [
    "ml.model"
   ]
  },
  {
   "cell_type": "code",
   "execution_count": 11,
   "metadata": {},
   "outputs": [
    {
     "data": {
      "text/plain": [
       "Linear mixed model fit by REML ['lmerMod']\n",
       "Formula: Time ~ Condition + (1 | ID) + (1 | PDF)\n",
       "   Data: data\n",
       "\n",
       "REML criterion at convergence: 2416.3\n",
       "\n",
       "Scaled residuals: \n",
       "    Min      1Q  Median      3Q     Max \n",
       "-3.0493 -0.4095 -0.1687  0.2313  4.1152 \n",
       "\n",
       "Random effects:\n",
       " Groups   Name        Variance Std.Dev.\n",
       " PDF      (Intercept)      0     0.0   \n",
       " ID       (Intercept) 286030   534.8   \n",
       " Residual             390474   624.9   \n",
       "Number of obs: 152, groups:  PDF, 46; ID, 38\n",
       "\n",
       "Fixed effects:\n",
       "            Estimate Std. Error t value\n",
       "(Intercept)   841.28     112.54   7.475\n",
       "Condition     -67.01     101.37  -0.661\n",
       "\n",
       "Correlation of Fixed Effects:\n",
       "          (Intr)\n",
       "Condition -0.450"
      ]
     },
     "metadata": {},
     "output_type": "display_data"
    }
   ],
   "source": [
    "summary(ml.model)"
   ]
  },
  {
   "cell_type": "markdown",
   "metadata": {},
   "source": [
    "##### Random effects first:\n",
    "Column <b>Std.Dev</b>: measure of variablility for each random effect added to the model. Note: PDF (documents) have no variability here.<br>\n",
    "<b>Resuduals:</b> Vaiability which is not due to PDF (document) or ID (subject) this is essentially the (Epsilon) - random eviations from the predicted values that are not due to documents and participants<br>\n",
    "<b>Here:</b> Each and every timing measure whether in the machine learning condittion or not is infuenced quite a bit by somthing outside of the model (resudial quite high? 624.9)<br>\n"
   ]
  },
  {
   "cell_type": "markdown",
   "metadata": {},
   "source": [
    "##### Now lets have a look at fixed effects:\n",
    "The coefficient 'Condition' (Machine-Learning or not) is the slope for the (categorical) effect of the machine learning.<br>\n",
    "So <b>-67.01</b> means that to go from 'non-machine-learning' to 'machine learning'? We have to go down. Because 0 before 1?<br>\n",
    "In other words Time is lower in where machine-learning assistance is present than in non-machine learning tasks. More precicely: <b>about 67s</b><br>\n",
    "Then, there’s a standard error associated with this slope, and a t-value, which is simply the estimate (67s) divided by the standard error.<br>\n",
    "<b>Note:</b> The lmer() function (just like the lm() function) took whatever comes first in the alphabet to be the reference level. I assume this is the same for Numerical values 0/1? (in case inverse slope just positive but standard errors, significance etc. would remain the same.)<br>"
   ]
  },
  {
   "cell_type": "markdown",
   "metadata": {},
   "source": [
    "#### Statistical Significance"
   ]
  },
  {
   "cell_type": "markdown",
   "metadata": {},
   "source": [
    "$p-values$ for mixed models aren’t as straightforward as they are for the linear model. There are multiple approaches, and there’s a discussion surrounding these, with sometimes wildly differing opinions about which approach is the best."
   ]
  },
  {
   "cell_type": "markdown",
   "metadata": {},
   "source": [
    "#### Likelyhood Ratio Test\n",
    "The logic of the likelihood ratio test is to compare the likelihood of two models with each other. First, the model without the factor that we’re interested in (the null model), then the model with the factor that we’re interested in.<br>\n",
    "<b>The fixed effect is significant if the difference between the likelihood of these two models is significant</b>"
   ]
  },
  {
   "cell_type": "code",
   "execution_count": 19,
   "metadata": {},
   "outputs": [],
   "source": [
    "ml.null = lmer(Time ~ Order + (1|ID) + (1|PDF), data=data, REML=FALSE)\n",
    "# REML=FALSE changes internal likelyhood estimator Pinheiro & Bates, 2000; Bolker et al., 2009"
   ]
  },
  {
   "cell_type": "code",
   "execution_count": 20,
   "metadata": {
    "collapsed": true
   },
   "outputs": [],
   "source": [
    "ml.main = lmer(Time ~ Condition + (1|ID) + (1|PDF), data=data, REML=FALSE)"
   ]
  },
  {
   "cell_type": "code",
   "execution_count": 24,
   "metadata": {},
   "outputs": [
    {
     "data": {
      "text/plain": [
       "       Df         AIC            BIC           logLik         deviance   \n",
       " Min.   :5   Min.   :2424   Min.   :2439   Min.   :-1219   Min.   :2414  \n",
       " 1st Qu.:5   1st Qu.:2430   1st Qu.:2445   1st Qu.:-1216   1st Qu.:2420  \n",
       " Median :5   Median :2436   Median :2451   Median :-1213   Median :2426  \n",
       " Mean   :5   Mean   :2436   Mean   :2451   Mean   :-1213   Mean   :2426  \n",
       " 3rd Qu.:5   3rd Qu.:2442   3rd Qu.:2457   3rd Qu.:-1210   3rd Qu.:2432  \n",
       " Max.   :5   Max.   :2448   Max.   :2463   Max.   :-1207   Max.   :2438  \n",
       "                                                                         \n",
       "     Chisq       Chi Df    Pr(>Chisq)\n",
       " Min.   :0   Min.   :0   Min.   :1   \n",
       " 1st Qu.:0   1st Qu.:0   1st Qu.:1   \n",
       " Median :0   Median :0   Median :1   \n",
       " Mean   :0   Mean   :0   Mean   :1   \n",
       " 3rd Qu.:0   3rd Qu.:0   3rd Qu.:1   \n",
       " Max.   :0   Max.   :0   Max.   :1   \n",
       " NA's   :1   NA's   :1   NA's   :1   "
      ]
     },
     "metadata": {},
     "output_type": "display_data"
    },
    {
     "data": {
      "text/html": [
       "<table>\n",
       "<thead><tr><th></th><th scope=col>Df</th><th scope=col>AIC</th><th scope=col>BIC</th><th scope=col>logLik</th><th scope=col>deviance</th><th scope=col>Chisq</th><th scope=col>Chi Df</th><th scope=col>Pr(&gt;Chisq)</th></tr></thead>\n",
       "<tbody>\n",
       "\t<tr><th scope=row>ml.null</th><td>5        </td><td>2423.708 </td><td>2438.828 </td><td>-1206.854</td><td>2413.708 </td><td>NA       </td><td>NA       </td><td>NA       </td></tr>\n",
       "\t<tr><th scope=row>ml.main</th><td>5        </td><td>2448.366 </td><td>2463.486 </td><td>-1219.183</td><td>2438.366 </td><td> 0       </td><td> 0       </td><td> 1       </td></tr>\n",
       "</tbody>\n",
       "</table>\n"
      ],
      "text/latex": [
       "\\begin{tabular}{r|llllllll}\n",
       "  & Df & AIC & BIC & logLik & deviance & Chisq & Chi Df & Pr(>Chisq)\\\\\n",
       "\\hline\n",
       "\tml.null & 5         & 2423.708  & 2438.828  & -1206.854 & 2413.708  & NA        & NA        & NA       \\\\\n",
       "\tml.main & 5         & 2448.366  & 2463.486  & -1219.183 & 2438.366  &  0        &  0        &  1       \\\\\n",
       "\\end{tabular}\n"
      ],
      "text/markdown": [
       "\n",
       "| <!--/--> | Df | AIC | BIC | logLik | deviance | Chisq | Chi Df | Pr(>Chisq) | \n",
       "|---|---|\n",
       "| ml.null | 5         | 2423.708  | 2438.828  | -1206.854 | 2413.708  | NA        | NA        | NA        | \n",
       "| ml.main | 5         | 2448.366  | 2463.486  | -1219.183 | 2438.366  |  0        |  0        |  1        | \n",
       "\n",
       "\n"
      ],
      "text/plain": [
       "        Df AIC      BIC      logLik    deviance Chisq Chi Df Pr(>Chisq)\n",
       "ml.null 5  2423.708 2438.828 -1206.854 2413.708 NA    NA     NA        \n",
       "ml.main 5  2448.366 2463.486 -1219.183 2438.366  0     0      1        "
      ]
     },
     "metadata": {},
     "output_type": "display_data"
    }
   ],
   "source": [
    "a <- anova(ml.null, ml.main)\n",
    "summary(a)\n",
    "a"
   ]
  },
  {
   "cell_type": "code",
   "execution_count": 25,
   "metadata": {
    "collapsed": true
   },
   "outputs": [],
   "source": [
    "# interactions?"
   ]
  },
  {
   "cell_type": "code",
   "execution_count": 26,
   "metadata": {
    "collapsed": true
   },
   "outputs": [],
   "source": [
    "# Random slopes versus random intercepts?"
   ]
  },
  {
   "cell_type": "code",
   "execution_count": 27,
   "metadata": {},
   "outputs": [
    {
     "data": {
      "text/plain": [
       "$PDF\n",
       "                      (Intercept) Condition\n",
       "0nx4Zi7dVYn5EQ3dNItt-    841.2763 -67.01316\n",
       "1oRxFbc15dGemlIVay6To    841.2763 -67.01316\n",
       "1W2m3hOjAPEzUifHcCjF9    841.2763 -67.01316\n",
       "2zFP1Ahjjhq-L21Yi3U_6    841.2763 -67.01316\n",
       "4gIe5sni3WJJCzNglSdo8    841.2763 -67.01316\n",
       "5uEM6bY-KKcueJUcApFwi    841.2763 -67.01316\n",
       "6w3O6fmiWA3Fm5pJEPTyK    841.2763 -67.01316\n",
       "BwSirMyg7H8f_qVrpY9P0    841.2763 -67.01316\n",
       "BXUVehBvfeMUVUB46B_zB    841.2763 -67.01316\n",
       "C3Yt_3KsVfsQvroPQZVRS    841.2763 -67.01316\n",
       "CcOYVSOYGJaipVrXMOL8w    841.2763 -67.01316\n",
       "ChNQN3VMGJgdvnhdhOkni    841.2763 -67.01316\n",
       "cnDXl97I_WoVUqyIH0HbQ    841.2763 -67.01316\n",
       "CuWH9c-7JemOEHwMwjfqb    841.2763 -67.01316\n",
       "DeOXhZ9L5hAry4miUt-X8    841.2763 -67.01316\n",
       "dF3CKQJaMb8UjWid98kuq    841.2763 -67.01316\n",
       "eEspRffpxcT05-QtNWoWF    841.2763 -67.01316\n",
       "GaKsuTElGCdIRmyaDrXy5    841.2763 -67.01316\n",
       "gD_JugCFB6D5iV-JIOI0p    841.2763 -67.01316\n",
       "gJHgJsIPWuhzo8OrO9_4W    841.2763 -67.01316\n",
       "Hyb9RdMbOSUQjW1e3fRxL    841.2763 -67.01316\n",
       "i2GK-dBdzq8hQV26C_5Jl    841.2763 -67.01316\n",
       "iHbGgWtrKNfksdoj9Hxv9    841.2763 -67.01316\n",
       "JeO_F5EKpjq9lt0rJOA-o    841.2763 -67.01316\n",
       "k2pswQKWpJbKS8F4QdXwA    841.2763 -67.01316\n",
       "lJGa9WH4DouLz_639nPQe    841.2763 -67.01316\n",
       "LmiRcQAHG9hn_wR-Xx1EN    841.2763 -67.01316\n",
       "maIR13XMswWK4r7a8EQjE    841.2763 -67.01316\n",
       "oOAy7INgRLumTV3vZWtVM    841.2763 -67.01316\n",
       "ozPhk3X4hVVyOOrSGUKLl    841.2763 -67.01316\n",
       "PdisTO-WxU9tPisKNvSBK    841.2763 -67.01316\n",
       "pGayWHvjDDyTbIyNHcKgI    841.2763 -67.01316\n",
       "PhqP77klrmqXggLWXtRgo    841.2763 -67.01316\n",
       "rXBLyefpd24kKpTYXJmMc    841.2763 -67.01316\n",
       "sFFof9JzAiWfrvIAomFAq    841.2763 -67.01316\n",
       "SxykkqJYiPn7MoawJ_SNP    841.2763 -67.01316\n",
       "syG-CFqimgS2VIz2Z7QJC    841.2763 -67.01316\n",
       "U2PXr4iMBf8Kt-leQI8Ii    841.2763 -67.01316\n",
       "USLW8zCcxJ1-bxPUN4L05    841.2763 -67.01316\n",
       "VVQyIpJ1qfB9MpYL7evbv    841.2763 -67.01316\n",
       "VxL6hkEaU86zcLgZ5iMhh    841.2763 -67.01316\n",
       "WjyloddGoOu0hHWnXH1S8    841.2763 -67.01316\n",
       "XOCbiBddVQK3BYy1Ox4lI    841.2763 -67.01316\n",
       "XsI2WyPfvOm6Wxr7iwopU    841.2763 -67.01316\n",
       "ZAAnUg5auu5_ch6ssWqG0    841.2763 -67.01316\n",
       "ZULSNQ8YVI_ZrMSFL5KNQ    841.2763 -67.01316\n",
       "\n",
       "$ID\n",
       "                      (Intercept) Condition\n",
       "-JjAzwjQakZk-3kIbeMfw    597.6524 -67.01316\n",
       "-O8MP5AR-esmcnFcENyoF    626.9153 -67.01316\n",
       "-YoLEIFk1XZUJo3BgVmlp   1000.4370 -67.01316\n",
       "2K-K26QZH9xPJH9RVMltM    702.5889 -67.01316\n",
       "2snvok14kLm_dRIdL67PF    544.9046 -67.01316\n",
       "3CDOco99k3UGgia7A9LQo   1801.3466 -67.01316\n",
       "4dkYUV8wlkm_Q5miw0qCJ   1006.5878 -67.01316\n",
       "5SAqbCbqZP_q7hVWTEJdL    369.1406 -67.01316\n",
       "8arsi19w5sMwMmpkmM0sX    741.1712 -67.01316\n",
       "C07qGfUuD1L-1IoLjtOXY    743.5942 -67.01316\n",
       "C4xWyqDJrsHcIoHU5GtUG   1799.4827 -67.01316\n",
       "Ci3GWDLAOc5ANxkPpNOBc    658.2285 -67.01316\n",
       "cs1qlmKFvdkFjUcXEkJgT    658.0421 -67.01316\n",
       "FfUZhXrHdKSHZ3ON2_Dty    917.4943 -67.01316\n",
       "fQoBVJ60uF5ehuYNAg4v2    792.8007 -67.01316\n",
       "FXvg7iTf7P1bl-Z9dHKPO    641.0808 -67.01316\n",
       "GR96RbbiPLL4gS3-ilxky   2221.4653 -67.01316\n",
       "hNQKTiKtHSY_BmxLyZb9Q    605.4807 -67.01316\n",
       "jBFO8AR45EErIQ5grz5n-    600.6346 -67.01316\n",
       "jYha2hNra2RfUfgXnVaj1    659.1604 -67.01316\n",
       "KlKCr9O8A-8WK6gr2vK9k    711.5355 -67.01316\n",
       "KtfB3jYg9jsg0osJkMWVG    439.5953 -67.01316\n",
       "L-KBZ1ZC0lK2hQlDSUCgH    466.2488 -67.01316\n",
       "lllK6Q_LLhHbw7bTJ1v51    547.7004 -67.01316\n",
       "pyTvUi2W85Nb9handPSvZ    582.1822 -67.01316\n",
       "Rh7QrcKwEzMEORahevriS   1035.4780 -67.01316\n",
       "S2oI3sQr3HnSJ7rgbaMJR    931.4734 -67.01316\n",
       "to4PqjXHBIG3bKQhv9cHr    510.9819 -67.01316\n",
       "tRdDoOfbjIQw3tUkGktky   1081.1431 -67.01316\n",
       "TTtTg_voG4fV-uDraAWC3    614.2409 -67.01316\n",
       "UbIO7NW7RAUjVfe3_VJ48    657.4830 -67.01316\n",
       "uq4HMVa0zTYYknq8_4SOc   2320.6238 -67.01316\n",
       "UyqDH9vL0gK918t2bEj0z    578.0816 -67.01316\n",
       "V9_3tiOUC-jab7xnPK1HK    764.2833 -67.01316\n",
       "WpFHCjeR-3YdyEJJmCT2Y    562.9842 -67.01316\n",
       "ynh1N1_BZO8W4d0_gaMDy    734.0885 -67.01316\n",
       "ZAj9Y0K4px17TAcPf3uYG    516.3872 -67.01316\n",
       "ZXpghXhauDD3Vpv76PGoj   1225.7802 -67.01316\n",
       "\n",
       "attr(,\"class\")\n",
       "[1] \"coef.mer\""
      ]
     },
     "metadata": {},
     "output_type": "display_data"
    }
   ],
   "source": [
    "coef(ml.model)"
   ]
  },
  {
   "cell_type": "markdown",
   "metadata": {},
   "source": [
    "Each document (PDF) and each participant (ID) is assigned a different intercept. That’s what we would expect, given that we’ve told the model with “(1|PDF)” and “(1|ID)” to take by-particpant and by-document variability into account.<br>\n",
    "<b>Here above: coefficients always negative - despite individual variation there is consistency on how Condition (machine learning) affects the time (negative)?</b>"
   ]
  },
  {
   "cell_type": "code",
   "execution_count": 33,
   "metadata": {},
   "outputs": [
    {
     "data": {
      "image/png": "[encoded data removed]",
      "text/plain": [
       "plot without title"
      ]
     },
     "metadata": {},
     "output_type": "display_data"
    }
   ],
   "source": [
    "scatterplot(Time ~ Condition, data=data)"
   ]
  },
  {
   "cell_type": "code",
   "execution_count": null,
   "metadata": {
    "collapsed": true
   },
   "outputs": [],
   "source": []
  }
 ],
 "metadata": {
  "kernelspec": {
   "display_name": "R",
   "language": "R",
   "name": "ir"
  },
  "language_info": {
   "codemirror_mode": "r",
   "file_extension": ".r",
   "mimetype": "text/x-r-source",
   "name": "R",
   "pygments_lexer": "r",
   "version": "3.4.0"
  }
 },
 "nbformat": 4,
 "nbformat_minor": 2
}
